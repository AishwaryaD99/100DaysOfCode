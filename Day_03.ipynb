{
 "cells": [
  {
   "cell_type": "code",
   "execution_count": 10,
   "metadata": {},
   "outputs": [
    {
     "name": "stdout",
     "output_type": "stream",
     "text": [
      "The distance between the two points is 314.40 km.\n"
     ]
    }
   ],
   "source": [
    "# Q12 : Distance Between Two Points on Earth\n",
    "from math  import acos, sin,cos, radians\n",
    "\n",
    "t1,g1 = map(float,input(\"Enter Latitude : \").split(\",\"))\n",
    "t2,g2 = map(float,input(\"Enter Longitude : \").split(\",\"))\n",
    "\n",
    "t1, g1, t2, g2 = map(radians, [t1, g1, t2, g2])\n",
    "\n",
    "distance = 6371.01 *  acos(sin(t1) * sin(t2) + cos(t1) * cos(t2) * cos(g1 - g2))\n",
    "\n",
    "print(f\"The distance between the two points is {distance:.2f} km.\")"
   ]
  },
  {
   "cell_type": "code",
   "execution_count": 1,
   "metadata": {},
   "outputs": [
    {
     "name": "stdout",
     "output_type": "stream",
     "text": [
      "You height in cms is equal to :  154.94\n"
     ]
    }
   ],
   "source": [
    "# Q14 : : Height Units\n",
    "\n",
    "height_f = eval(input(\"Enter height in feet : \"))\n",
    "height_in = eval(input(\"Enter inches : \"))\n",
    "\n",
    "height_inches_tot = (height_f * 12) +  height_in\n",
    "\n",
    "height_cm =  (height_inches_tot * 2.54)\n",
    "\n",
    "print(\"You height in cms is equal to : \", height_cm)\n",
    "\n",
    "\n"
   ]
  },
  {
   "cell_type": "code",
   "execution_count": 1,
   "metadata": {},
   "outputs": [
    {
     "name": "stdout",
     "output_type": "stream",
     "text": [
      "the distance  6000000  feet in inches is :  72000000 inches\n",
      "in yards is :  1980000.0 yards\n",
      " in miles :  1136.364 miles\n"
     ]
    }
   ],
   "source": [
    "# Q15: Distance Units\n",
    "\n",
    "dist = eval(input(\"Enter distance in feet : \"))\n",
    "\n",
    "\n",
    "\n",
    "dist_inches = dist * 12\n",
    "\n",
    "dist_yards = dist * 0.33\n",
    "\n",
    "dist_miles = format(dist * 0.000189394,\".3f\") \n",
    "\n",
    "print(\"the distance \",dist, \" feet in inches is : \", dist_inches,'inches\\nin yards is : ', dist_yards,'yards\\n in miles : ',\n",
    "      dist_miles,'miles' )\n"
   ]
  },
  {
   "cell_type": "code",
   "execution_count": null,
   "metadata": {},
   "outputs": [
    {
     "name": "stdout",
     "output_type": "stream",
     "text": [
      "The area of circle is  153.94 meter sq.  \n",
      "Volume of sphere is : 1436.76 meter cube\n"
     ]
    }
   ],
   "source": [
    "# Q 16: Area and Volume\n",
    "\n",
    "from math import pi\n",
    "\n",
    "radius = eval(input(\"Enter radius : \"))\n",
    "\n",
    "area = pi*(radius*radius)\n",
    "vol = 4/3 * pi * (radius * radius * radius)\n",
    "\n",
    "print(f\"The area of circle is  {area:.2f} meter sq.  \\nVolume of sphere is : {vol:.2f} meter cube\")\n"
   ]
  },
  {
   "cell_type": "code",
   "execution_count": 6,
   "metadata": {},
   "outputs": [
    {
     "name": "stdout",
     "output_type": "stream",
     "text": [
      "Volume of cylinder is  1809.6 cubic sq units\n"
     ]
    }
   ],
   "source": [
    "# Q 18: Volume of a Cylinder\n",
    "\n",
    "\n",
    "r = eval(input(\"Enter the radius of cylinder :\"))\n",
    "h = eval(input(\"Enter the hieght : \"))\n",
    "\n",
    "volume = pi*(r*r)*h \n",
    "\n",
    "print(f\"Volume of cylinder is  {volume:.1f} cubic sq units\")\n"
   ]
  },
  {
   "cell_type": "code",
   "execution_count": 10,
   "metadata": {},
   "outputs": [
    {
     "name": "stdout",
     "output_type": "stream",
     "text": [
      "The final speed  is : 14.00 \n"
     ]
    }
   ],
   "source": [
    "# Q 19: Free Fall\n",
    "from math import sqrt\n",
    "\n",
    "h = eval(input(\"Enter height from which obj is dropped : \"))\n",
    "a = 9.8\n",
    "u = 0 \n",
    "d = h\n",
    "\n",
    "v = sqrt((u * u ) + 2 * a* d)\n",
    "print(f\"The final speed  is : {v:.2f} \")"
   ]
  },
  {
   "cell_type": "code",
   "execution_count": 11,
   "metadata": {},
   "outputs": [
    {
     "name": "stdout",
     "output_type": "stream",
     "text": [
      "Area = 35.00\n"
     ]
    }
   ],
   "source": [
    "# Q 21: Area of a Triangle\n",
    "\n",
    "b = eval(input(\"Enter the breadth : \"))\n",
    "h = eval(input(\"Enter the height : \"))\n",
    "\n",
    "area  = 0.5 * b * h \n",
    "\n",
    "print(f\"Area = {area:.2f}\")"
   ]
  },
  {
   "cell_type": "code",
   "execution_count": 12,
   "metadata": {},
   "outputs": [
    {
     "name": "stdout",
     "output_type": "stream",
     "text": [
      "Area of triangle = 263.25 sq m\n"
     ]
    }
   ],
   "source": [
    "# Q  22: Area of a Triangle (Again)\n",
    "\n",
    "h1, h2 , h3 = map(eval, input(\"Enter the heights separated by commas :\").split(\",\"))\n",
    "\n",
    "s = (h1 + h2 + h3)\n",
    "area = sqrt(s*(s - h1)*(s-h2)*(s-h3))\n",
    "\n",
    "print(f\"Area of triangle = {area:.2f} sq m\")"
   ]
  }
 ],
 "metadata": {
  "kernelspec": {
   "display_name": ".venv",
   "language": "python",
   "name": "python3"
  },
  "language_info": {
   "codemirror_mode": {
    "name": "ipython",
    "version": 3
   },
   "file_extension": ".py",
   "mimetype": "text/x-python",
   "name": "python",
   "nbconvert_exporter": "python",
   "pygments_lexer": "ipython3",
   "version": "3.13.0"
  }
 },
 "nbformat": 4,
 "nbformat_minor": 2
}
