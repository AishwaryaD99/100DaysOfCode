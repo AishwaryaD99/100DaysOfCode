{
 "cells": [
  {
   "cell_type": "code",
   "execution_count": null,
   "metadata": {},
   "outputs": [
    {
     "name": "stdout",
     "output_type": "stream",
     "text": [
      "Aishwarya Dinesh \n",
      "ABC.org\n",
      "Kochi \n"
     ]
    }
   ],
   "source": [
    "# Q1 - Mailing Address\n",
    "\n",
    "print(\"Aishwarya  \\nABC.org\\nKochi \") "
   ]
  },
  {
   "cell_type": "code",
   "execution_count": 5,
   "metadata": {},
   "outputs": [
    {
     "name": "stdout",
     "output_type": "stream",
     "text": [
      "Hello Ai\n"
     ]
    }
   ],
   "source": [
    "#Q2 Hello\n",
    "name = input('Enter name : ')\n",
    "print('Hello',name)\n"
   ]
  },
  {
   "cell_type": "code",
   "execution_count": null,
   "metadata": {},
   "outputs": [
    {
     "name": "stdout",
     "output_type": "stream",
     "text": [
      "The area of the room is :  800.0 sq. meters\n"
     ]
    }
   ],
   "source": [
    "# Q3 Area of a Room\n",
    "length, width = map(float, input(\"Enter length and width in meters separated by a space: \").split())\n",
    "\n",
    "area = length * width \n",
    "\n",
    "print('The area of the room is : ', area, 'sq. meters')\n"
   ]
  },
  {
   "cell_type": "code",
   "execution_count": null,
   "metadata": {},
   "outputs": [
    {
     "name": "stdout",
     "output_type": "stream",
     "text": [
      "The area of the room is :  12.86 acres\n"
     ]
    }
   ],
   "source": [
    "# Q4  Area of a Field\n",
    "length, width = map(float,input(\"Enter the length and width (in feet) separated by space  : \").split())\n",
    "\n",
    "area = round(((length * width)/43560), 2)\n",
    "\n",
    "print('The area of the room is : ', area, 'acres')"
   ]
  },
  {
   "cell_type": "code",
   "execution_count": 19,
   "metadata": {},
   "outputs": [
    {
     "name": "stdout",
     "output_type": "stream",
     "text": [
      "You will be getting $ 5.5\n"
     ]
    }
   ],
   "source": [
    "# Q5 : Bottle Deposits\n",
    "price_small = 0.10\n",
    "price_big = 0.25\n",
    "\n",
    "small = int(input('Enter no.of small containers (1 Litre and lesser)'))\n",
    "big = int(input('Enter no.of big containers (capacity more than 1L)'))\n",
    "\n",
    "amount = round((small*price_small) + (big * price_big),2)\n",
    "\n",
    "print('You will be getting $',amount)\n"
   ]
  },
  {
   "cell_type": "code",
   "execution_count": 26,
   "metadata": {},
   "outputs": [
    {
     "name": "stdout",
     "output_type": "stream",
     "text": [
      "You will be getting $6.00\n"
     ]
    }
   ],
   "source": [
    "price_small = 0.10\n",
    "price_big = 0.25\n",
    "\n",
    "small = int(input('Enter no.of small containers (1 Litre and lesser)'))\n",
    "big = int(input('Enter no.of big containers (capacity more than 1L)'))\n",
    "\n",
    "amount = (small*price_small) + (big * price_big)\n",
    "\n",
    "print(\"You will be getting $%.2f\"%amount)\n",
    "#print(f\"You will be getting ${amount:%.2f}\")"
   ]
  },
  {
   "cell_type": "code",
   "execution_count": null,
   "metadata": {},
   "outputs": [],
   "source": []
  }
 ],
 "metadata": {
  "kernelspec": {
   "display_name": ".venv",
   "language": "python",
   "name": "python3"
  },
  "language_info": {
   "codemirror_mode": {
    "name": "ipython",
    "version": 3
   },
   "file_extension": ".py",
   "mimetype": "text/x-python",
   "name": "python",
   "nbconvert_exporter": "python",
   "pygments_lexer": "ipython3",
   "version": "3.13.0"
  }
 },
 "nbformat": 4,
 "nbformat_minor": 2
}
