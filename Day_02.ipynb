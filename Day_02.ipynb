{
 "cells": [
  {
   "cell_type": "code",
   "execution_count": null,
   "metadata": {},
   "outputs": [
    {
     "name": "stdout",
     "output_type": "stream",
     "text": [
      "Your final amount is : Rs. 630.0\n"
     ]
    }
   ],
   "source": [
    "# Q6 Tax and Tip\n",
    "\n",
    "cost  = int(input('Enter Amount : '))\n",
    "tip = cost * 0.18\n",
    "tax = cost * 0.08\n",
    "total  = cost + tax + tip\n",
    "print(\"Your final amount is : Rs.\", total )"
   ]
  },
  {
   "cell_type": "code",
   "execution_count": 5,
   "metadata": {},
   "outputs": [
    {
     "name": "stdout",
     "output_type": "stream",
     "text": [
      "Sum =  15.0\n"
     ]
    }
   ],
   "source": [
    "# Q7  Sum of the First n Positive Integers\n",
    "n = int(input(\"Enter an integer :  \"))\n",
    "sum = n*(n +1)/2\n",
    "print(\"Sum = \",sum)\n"
   ]
  },
  {
   "cell_type": "code",
   "execution_count": null,
   "metadata": {},
   "outputs": [
    {
     "name": "stdout",
     "output_type": "stream",
     "text": [
      "Total weight =   1495 g\n"
     ]
    }
   ],
   "source": [
    " # Q8 Widgets and Gizmos\n",
    "\n",
    "widget = 75 \n",
    "gizmos = 112\n",
    "\n",
    "ng = int(input(\"Enter the number of gizmos\"))\n",
    "\n",
    "nw = int(input(\"Enter the number of widgets\"))\n",
    "\n",
    "total_weight = (widget * ng )+ (gizmos * nw)\n",
    "\n",
    "print(\"Total weight =  \",total_weight,'g')"
   ]
  },
  {
   "cell_type": "code",
   "execution_count": 13,
   "metadata": {},
   "outputs": [
    {
     "name": "stdout",
     "output_type": "stream",
     "text": [
      "10000.0\n",
      "Your interest after 1 year will be : $10400.00\n",
      "Your interest after 2 year will be : $10816.00\n",
      "Your interest after 3 year will be : $11248.64\n",
      "Your interest after 4 year will be : $11698.59\n"
     ]
    }
   ],
   "source": [
    "# Q9 Compound Interest\n",
    "\n",
    "Interest = 0.04\n",
    "deposit = float(input(\"Enter the deposit : \"))\n",
    "\n",
    "amount = deposit + (Interest* deposit)\n",
    "print(deposit)\n",
    "print('Your interest after 1 year will be : ${0:0.2f}' .format(amount))\n",
    "\n",
    "amount = amount + (Interest* amount)\n",
    "print('Your interest after 2 year will be : ${0:0.2f}' .format(amount))\n",
    "\n",
    "amount = amount + (Interest* amount)\n",
    "print('Your interest after 3 year will be : ${0:0.2f}' .format(amount))\n",
    "\n",
    "amount = amount + (Interest* amount)\n",
    "print('Your interest after 4 year will be : ${0:0.2f}' .format(amount))\n",
    "\n"
   ]
  },
  {
   "cell_type": "code",
   "execution_count": 22,
   "metadata": {},
   "outputs": [
    {
     "name": "stdout",
     "output_type": "stream",
     "text": [
      "Sum: 11\n",
      "Difference: -1\n",
      "Product: 30\n",
      "Quotient: 0.8333333333333334\n",
      "Remainder: 0\n"
     ]
    }
   ],
   "source": [
    "# 10: Arithmetic\n",
    "\n",
    "a = int(input(\"Enter an integer: \"))\n",
    "b = int(input(\"Enter the second integer: \"))\n",
    "\n",
    "sum_ = a + b  # Use sum_ instead of sum to avoid shadowing the built-in sum function\n",
    "diff = a - b\n",
    "product = a * b\n",
    "\n",
    "quotient = a / b  # Division (floating-point)\n",
    "remainder = a // b  # Integer division (quotient without decimal)\n",
    "\n",
    "# Print the results\n",
    "print(\"Sum:\", sum_)\n",
    "print(\"Difference:\", diff)\n",
    "print(\"Product:\", product)\n",
    "print(\"Quotient:\", quotient)\n",
    "print(\"Remainder:\", remainder)\n"
   ]
  },
  {
   "cell_type": "code",
   "execution_count": 28,
   "metadata": {},
   "outputs": [
    {
     "name": "stdout",
     "output_type": "stream",
     "text": [
      "9.0 MPG is equivalent to 26.13 L/100 km\n"
     ]
    }
   ],
   "source": [
    "# Q11: Fuel Efficiency Conversion from MPG to L/100 km\n",
    "\n",
    "# Prompt the user to enter the fuel efficiency in MPG\n",
    "M = float(input(\"Enter US fuel efficiency (MPG): \"))\n",
    "\n",
    "# Perform the conversion\n",
    "L = 235.214583 / M\n",
    "\n",
    "# Display the result with explanation and formatted output\n",
    "print(f\"{M} MPG is equivalent to {L:.2f} L/100 km\")\n"
   ]
  },
  {
   "cell_type": "code",
   "execution_count": null,
   "metadata": {},
   "outputs": [],
   "source": []
  }
 ],
 "metadata": {
  "kernelspec": {
   "display_name": ".venv",
   "language": "python",
   "name": "python3"
  },
  "language_info": {
   "codemirror_mode": {
    "name": "ipython",
    "version": 3
   },
   "file_extension": ".py",
   "mimetype": "text/x-python",
   "name": "python",
   "nbconvert_exporter": "python",
   "pygments_lexer": "ipython3",
   "version": "3.13.0"
  }
 },
 "nbformat": 4,
 "nbformat_minor": 2
}
